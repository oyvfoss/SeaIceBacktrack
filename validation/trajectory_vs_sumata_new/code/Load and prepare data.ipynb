{
 "cells": [
  {
   "cell_type": "markdown",
   "id": "eca25200",
   "metadata": {},
   "source": [
    "## Load and prepare data \n",
    "\n",
    "Load and prepare data for backtrajectory calculations.\n",
    "\n",
    "- Load the NSIDC PP data: *D*\n",
    "\n",
    "    - Loading a single, concatenated dataset from multiple source files.\n",
    "    - Interpolating over a few holes in the data.\n",
    "    \n",
    "- Load a land mask: *MASK*\n",
    "    - Define a land mask of land/no land that we use to kill trajectories that intersect a coastline."
   ]
  },
  {
   "cell_type": "code",
   "execution_count": 1,
   "id": "798b09dd",
   "metadata": {},
   "outputs": [
    {
     "name": "stderr",
     "output_type": "stream",
     "text": [
      "/home/oyvindl/mambaforge/envs/oyv/lib/python3.12/site-packages/pyproj/__init__.py:95: UserWarning: pyproj unable to set database path.\n",
      "  _pyproj_global_context_initialize()\n"
     ]
    }
   ],
   "source": [
    "import numpy as np\n",
    "import xarray as xr\n",
    "import glob\n",
    "import pyproj\n",
    "import matplotlib.pyplot as plt\n",
    "from matplotlib.dates import date2num"
   ]
  },
  {
   "cell_type": "markdown",
   "id": "d57609cd",
   "metadata": {},
   "source": [
    "### Load data"
   ]
  },
  {
   "cell_type": "markdown",
   "id": "b6e55882",
   "metadata": {},
   "source": [
    "Replace the *ddir* folder with the directory containing the PP NSIDC files (e.g. *icemotion_daily_nh_25km_20120101_20121231_v4.1.nc*)"
   ]
  },
  {
   "cell_type": "code",
   "execution_count": 2,
   "id": "b6632bf7",
   "metadata": {},
   "outputs": [],
   "source": [
    "ddir ='/home/oyvindl/work/data/external/sea_ice/sea_ice_drift/nsidc_pp_v4/'\n",
    "flist = glob.glob(ddir + '*nc')"
   ]
  },
  {
   "cell_type": "markdown",
   "id": "43a6632c",
   "metadata": {},
   "source": [
    "Lazy load of the data (concatenating the files) "
   ]
  },
  {
   "cell_type": "code",
   "execution_count": 3,
   "id": "9aa8f437",
   "metadata": {},
   "outputs": [],
   "source": [
    "# Loading\n",
    "# (\"minimal\" keyword avoids adding a time dimension to lat,lon)\n",
    "try:\n",
    "    D = xr.open_mfdataset(flist, data_vars = 'minimal')\n",
    "except:\n",
    "    raise Exception('Failed to open files..\\n(Looked for files here: %s)'%ddir)\n",
    "# Last value is empty -> drop\n",
    "D = D.drop_sel(time=D.time.data[-1])"
   ]
  },
  {
   "cell_type": "markdown",
   "id": "4de2e32f",
   "metadata": {},
   "source": [
    "### Interpolate over NaN days"
   ]
  },
  {
   "cell_type": "markdown",
   "id": "185c14e6",
   "metadata": {},
   "source": [
    "Some days, like 31.12 on 2020 and 2021, are all nans. \n",
    "\n",
    "-> Linearly interpolating between adjectent days (considering NaNs as zeros, \n",
    "but setting all-zero points to nan..)"
   ]
  },
  {
   "cell_type": "code",
   "execution_count": 4,
   "id": "9e572b75",
   "metadata": {},
   "outputs": [],
   "source": [
    "# Indices where all values are NaN\n",
    "isnan_all = np.isnan(D.u.max(dim = ['x', 'y']))\n",
    "is_nan_indices = np.where(isnan_all)[0]"
   ]
  },
  {
   "cell_type": "code",
   "execution_count": 5,
   "id": "78435fab",
   "metadata": {},
   "outputs": [],
   "source": [
    "# For each Nan index: Interpolate across from adjacent days\n",
    "\n",
    "for nan_ind in is_nan_indices:\n",
    "    u_nanind =  0.5*(D.u[nan_ind-1].fillna(0) + D.u[nan_ind+1].fillna(0))\n",
    "    v_nanind =  0.5*(D.v[nan_ind-1].fillna(0) + D.v[nan_ind+1].fillna(0))\n",
    "    \n",
    "    u_nanind = u_nanind.where(np.bool_((u_nanind!=0) * (v_nanind!=0)))\n",
    "    v_nanind = v_nanind.where(np.bool_((u_nanind!=0) * (v_nanind!=0)))\n",
    "\n",
    "    D.u[nan_ind] = u_nanind\n",
    "    D.v[nan_ind] = v_nanind"
   ]
  },
  {
   "cell_type": "markdown",
   "id": "332c4328",
   "metadata": {},
   "source": [
    "##### (Optional): Quick check\n",
    "\n",
    "Toggle *check_interpolation=True* to show a quick check of the interpolation on Dec 31 2020..\n"
   ]
  },
  {
   "cell_type": "code",
   "execution_count": 6,
   "id": "e8f3aed6",
   "metadata": {},
   "outputs": [],
   "source": [
    "check_interpolation = False\n",
    "\n",
    "if check_interpolation:\n",
    "    x_point, y_point = 180, 180\n",
    "    \n",
    "    fig, ax = plt.subplots(figsize = (11, 3))\n",
    "    \n",
    "    ax.plot_date(date2num(D.time), D.u.isel(x=x_point, y=y_point), '-k', alpha = 0.3)\n",
    "    ax.plot_date(date2num(D.time), D.u.isel(x=x_point, y=y_point), '.', ms = 6, \n",
    "                 label = 'u (original)')\n",
    "    ax.plot_date(D.time[is_nan_indices[0]], \n",
    "                 D.u.isel(x=x_point, y=y_point)[is_nan_indices[0]], '*y', ms = 12,\n",
    "                 label = 'u (interpolated)')\n",
    "    ax.plot_date(date2num(D.time), D.v.isel(x=x_point, y=y_point), '-k', alpha = 0.3)\n",
    "    ax.plot_date(date2num(D.time), D.v.isel(x=x_point, y=y_point), '.', ms = 6, \n",
    "                 label = 'v (original)')\n",
    "    ax.plot_date(D.time[is_nan_indices[0]], \n",
    "                 D.v.isel(x=x_point, y=y_point)[is_nan_indices[0]], '*r', ms = 12, \n",
    "                 label = 'v (interpolated)')\n",
    "\n",
    "    for t_ in date2num(D.time):\n",
    "        ax.vlines(t_, -50, 50, 'k', alpha = 0.2)\n",
    "    ax.set_xlim(18618, 18633)\n",
    "    ax.set_ylim(-10, 10)\n",
    "    ax.legend(ncol = 2, fontsize = 9)"
   ]
  },
  {
   "cell_type": "markdown",
   "id": "56677fb6",
   "metadata": {},
   "source": [
    "### Define a land mask\n",
    "\n",
    "Here, we can define a land mask (*MASK*) that will be used to kill a backtrajectory when it intersects a coastline.\n",
    "\n",
    "*MASK* should have the following variables:\n",
    "- *x, y* - Grid \n",
    "- *is_land* - Boolean (land=1, not land = 0)  \n",
    "- *proj* - pyproj.CRS defining the grid projection of *x, y*\n",
    "\n",
    "\n",
    "In my case, I am using a 2km land mask for the Eurasian sector based on IBCAO-v4, where I have removed Svalbard in order to allow trajectories to pass through islands. This mask was made elsewhere - I am just loading it here.\n",
    "\n",
    "We can choose not to use a land mask. In that case, set *no_land_mask = True*"
   ]
  },
  {
   "cell_type": "code",
   "execution_count": 7,
   "id": "b7cef79a",
   "metadata": {},
   "outputs": [],
   "source": [
    "no_land_mask = False"
   ]
  },
  {
   "cell_type": "code",
   "execution_count": 8,
   "id": "d2e37a28",
   "metadata": {},
   "outputs": [
    {
     "ename": "CRSError",
     "evalue": "Invalid projection: EPSG:3996: (Internal Proj Error: proj_create: no database context specified)",
     "output_type": "error",
     "traceback": [
      "\u001b[0;31m---------------------------------------------------------------------------\u001b[0m",
      "\u001b[0;31mCRSError\u001b[0m                                  Traceback (most recent call last)",
      "Cell \u001b[0;32mIn[8], line 3\u001b[0m\n\u001b[1;32m      1\u001b[0m \u001b[38;5;66;03m# Load the land mask based on IBCAO (and defining the projection of this mask):\u001b[39;00m\n\u001b[1;32m      2\u001b[0m \u001b[38;5;28;01mif\u001b[39;00m \u001b[38;5;129;01mnot\u001b[39;00m no_land_mask:\n\u001b[0;32m----> 3\u001b[0m     my_mask_proj \u001b[38;5;241m=\u001b[39m \u001b[43mpyproj\u001b[49m\u001b[38;5;241;43m.\u001b[39;49m\u001b[43mCRS\u001b[49m\u001b[43m(\u001b[49m\u001b[38;5;124;43m'\u001b[39;49m\u001b[38;5;124;43mEPSG:3996\u001b[39;49m\u001b[38;5;124;43m'\u001b[39;49m\u001b[43m)\u001b[49m  \n\u001b[1;32m      4\u001b[0m     my_mask \u001b[38;5;241m=\u001b[39m xr\u001b[38;5;241m.\u001b[39mopen_dataset(\n\u001b[1;32m      5\u001b[0m         \u001b[38;5;124m'\u001b[39m\u001b[38;5;124m/home/oyvindl/work/data/external/bathymetry/ibcao_v4/netcdf/IBCAO_landmask_greater_barents_2km.nc\u001b[39m\u001b[38;5;124m'\u001b[39m)\n\u001b[1;32m      6\u001b[0m     mask_is_land \u001b[38;5;241m=\u001b[39m my_mask\u001b[38;5;241m.\u001b[39mlandmask_wo_svb\n",
      "File \u001b[0;32m~/mambaforge/envs/oyv/lib/python3.12/site-packages/pyproj/crs/crs.py:348\u001b[0m, in \u001b[0;36mCRS.__init__\u001b[0;34m(self, projparams, **kwargs)\u001b[0m\n\u001b[1;32m    346\u001b[0m     \u001b[38;5;28mself\u001b[39m\u001b[38;5;241m.\u001b[39m_local\u001b[38;5;241m.\u001b[39mcrs \u001b[38;5;241m=\u001b[39m projparams\n\u001b[1;32m    347\u001b[0m \u001b[38;5;28;01melse\u001b[39;00m:\n\u001b[0;32m--> 348\u001b[0m     \u001b[38;5;28mself\u001b[39m\u001b[38;5;241m.\u001b[39m_local\u001b[38;5;241m.\u001b[39mcrs \u001b[38;5;241m=\u001b[39m \u001b[43m_CRS\u001b[49m\u001b[43m(\u001b[49m\u001b[38;5;28;43mself\u001b[39;49m\u001b[38;5;241;43m.\u001b[39;49m\u001b[43msrs\u001b[49m\u001b[43m)\u001b[49m\n",
      "File \u001b[0;32m~/mambaforge/envs/oyv/lib/python3.12/site-packages/pyproj/_crs.pyx:2378\u001b[0m, in \u001b[0;36mpyproj._crs._CRS.__init__\u001b[0;34m()\u001b[0m\n",
      "\u001b[0;31mCRSError\u001b[0m: Invalid projection: EPSG:3996: (Internal Proj Error: proj_create: no database context specified)"
     ]
    }
   ],
   "source": [
    "# Load the land mask based on IBCAO (and defining the projection of this mask):\n",
    "if not no_land_mask:\n",
    "    my_mask_proj = pyproj.CRS('epsg:3996')  \n",
    "    my_mask = xr.open_dataset(\n",
    "        '/home/oyvindl/work/data/external/bathymetry/ibcao_v4/netcdf/IBCAO_landmask_greater_barents_2km.nc')\n",
    "    mask_is_land = my_mask.landmask_wo_svb\n",
    "    # (Also adding lon/lat, but thise aren't strictly necessary)\n",
    "    MASK = xr.Dataset(coords = {'x':my_mask.x, 'y':my_mask.y},\n",
    "                     data_vars = {'lon':my_mask.lon, 'lat':my_mask.lat,\n",
    "                                  'is_land':mask_is_land})\n",
    "    MASK['proj'] = ((), my_mask_proj)"
   ]
  },
  {
   "cell_type": "code",
   "execution_count": 14,
   "id": "fb6254dd",
   "metadata": {},
   "outputs": [],
   "source": [
    "# If we dont have a land mask/dont want to use one:\n",
    "if no_land_mask:\n",
    "    MASK = None"
   ]
  },
  {
   "cell_type": "markdown",
   "id": "171460ed",
   "metadata": {},
   "source": [
    "##### (Optional): Quick check of mask\n",
    "\n",
    "Toggle *show_mask=True* to show a quick landmask plot"
   ]
  },
  {
   "cell_type": "code",
   "execution_count": 45,
   "id": "00153ce2",
   "metadata": {},
   "outputs": [],
   "source": [
    "show_mask = False\n",
    "\n",
    "if show_mask:\n",
    "\n",
    "    import cartopy.crs as ccrs\n",
    "    import cartopy.feature as cfeature\n",
    "\n",
    "    lat_ctr, lon_ctr = 86, 30\n",
    "\n",
    "    cart_proj = ccrs.Stereographic(\n",
    "        central_latitude=lat_ctr,\n",
    "        central_longitude=lon_ctr,\n",
    "        scale_factor=None, globe=None)\n",
    "\n",
    "    fig = plt.figure(figsize = (8, 8))\n",
    "    ax = plt.axes(projection=cart_proj)\n",
    "\n",
    "    # Coastline\n",
    "    ax.coastlines('50m', )\n",
    "\n",
    "    # Land\n",
    "    land_50m = cfeature.NaturalEarthFeature(\n",
    "        'physical', 'land', '50m',\n",
    "        edgecolor='k', linewidth = 1,\n",
    "        facecolor='none')\n",
    "\n",
    "    ax.add_feature(land_50m)\n",
    "\n",
    "    # Set boundaries\n",
    "    ax.set_extent([-20, 191, 66, 89.5], crs=ccrs.PlateCarree())\n",
    "    \n",
    "    # Transform mask coordiates (x-y) to (lat-lon) \n",
    "    wgs84_proj = pyproj.CRS(\"EPSG:4326\") # latlon with WGS84 datum\n",
    "    MASK_to_latlon = pyproj.Transformer.from_crs(MASK.proj.data.item(), wgs84_proj)\n",
    "    mask_lon, mask_lat = None, None\n",
    "    X, Y = np.meshgrid(MASK.x, MASK.y)\n",
    "    LAT, LON = MASK_to_latlon.transform(X, Y)\n",
    "    ax.pcolormesh(LON, LAT, MASK.is_land.values, transform=ccrs.PlateCarree())"
   ]
  },
  {
   "cell_type": "code",
   "execution_count": null,
   "id": "9398d9be-3192-4151-a413-33f520ece3d7",
   "metadata": {},
   "outputs": [],
   "source": []
  }
 ],
 "metadata": {
  "kernelspec": {
   "display_name": "oyv",
   "language": "python",
   "name": "oyv"
  },
  "language_info": {
   "codemirror_mode": {
    "name": "ipython",
    "version": 3
   },
   "file_extension": ".py",
   "mimetype": "text/x-python",
   "name": "python",
   "nbconvert_exporter": "python",
   "pygments_lexer": "ipython3",
   "version": "3.12.5"
  }
 },
 "nbformat": 4,
 "nbformat_minor": 5
}
