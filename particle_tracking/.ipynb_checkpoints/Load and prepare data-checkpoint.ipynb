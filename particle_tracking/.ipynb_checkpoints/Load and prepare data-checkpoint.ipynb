{
 "cells": [
  {
   "cell_type": "markdown",
   "id": "382954cc",
   "metadata": {},
   "source": [
    "## Load and prepare data \n",
    "\n",
    "Load and prepare data for backtrajectory calculations.\n",
    "\n",
    "- Load the NSIDC PP data: *D*\n",
    "\n",
    "    - Loading a single, concatenated dataset from multiple source files.\n",
    "    - Interpolating over a few holes in the data.\n",
    "    \n",
    "- Load a land mask: *MASK*\n",
    "    - Define a land mask of land/no land that we use to kill trajectories that intersect a coastline."
   ]
  },
  {
   "cell_type": "code",
   "execution_count": 28,
   "id": "1371645b",
   "metadata": {},
   "outputs": [],
   "source": [
    "import numpy as np\n",
    "import xarray as xr\n",
    "import glob\n",
    "import pyproj\n",
    "import matplotlib.pyplot as plt\n",
    "from matplotlib.dates import date2num"
   ]
  },
  {
   "cell_type": "markdown",
   "id": "beff0ba8",
   "metadata": {},
   "source": [
    "### Load data"
   ]
  },
  {
   "cell_type": "markdown",
   "id": "7b53f797",
   "metadata": {},
   "source": [
    "Replace the *ddir* folder with the directory containing the PP NSIDC files (e.g. *icemotion_daily_nh_25km_20120101_20121231_v4.1.nc*)"
   ]
  },
  {
   "cell_type": "code",
   "execution_count": 29,
   "id": "82afd965",
   "metadata": {},
   "outputs": [],
   "source": [
    "ddir ='/media/oyvindl/ratatosk/data/sea_ice_drift/nsidc_polar_pathfinder/modern_subset/'\n",
    "flist = glob.glob(ddir + '*nc')"
   ]
  },
  {
   "cell_type": "markdown",
   "id": "446613d7",
   "metadata": {},
   "source": [
    "Lazy load of the data (concatenating the files) "
   ]
  },
  {
   "cell_type": "code",
   "execution_count": 30,
   "id": "089d4c5a",
   "metadata": {},
   "outputs": [],
   "source": [
    "# Loading\n",
    "# (\"minimal\" keyword avoids adding a time dimension to lat,lon)\n",
    "D = xr.open_mfdataset(flist, data_vars = 'minimal')\n",
    "\n",
    "# Last value is empty -> drop\n",
    "D = D.drop_sel(time=D.time.data[-1])"
   ]
  },
  {
   "cell_type": "markdown",
   "id": "00ab921e",
   "metadata": {},
   "source": [
    "### Interpolate over NaN days"
   ]
  },
  {
   "cell_type": "markdown",
   "id": "d4b93ce0",
   "metadata": {},
   "source": [
    "Some days, like 31.12 on 2020 and 2021, are all nans. \n",
    "\n",
    "-> Linearly interpolating between adjectent days (considering NaNs as zeros, \n",
    "but setting all-zero points to nan..)"
   ]
  },
  {
   "cell_type": "code",
   "execution_count": 31,
   "id": "40ef9961",
   "metadata": {},
   "outputs": [
    {
     "ename": "KeyboardInterrupt",
     "evalue": "",
     "output_type": "error",
     "traceback": [
      "\u001b[0;31m---------------------------------------------------------------------------\u001b[0m",
      "\u001b[0;31mKeyboardInterrupt\u001b[0m                         Traceback (most recent call last)",
      "Cell \u001b[0;32mIn[31], line 3\u001b[0m\n\u001b[1;32m      1\u001b[0m \u001b[38;5;66;03m# Indices where all values are NaN\u001b[39;00m\n\u001b[1;32m      2\u001b[0m isnan_all \u001b[38;5;241m=\u001b[39m np\u001b[38;5;241m.\u001b[39misnan(D\u001b[38;5;241m.\u001b[39mu\u001b[38;5;241m.\u001b[39mmax(dim \u001b[38;5;241m=\u001b[39m [\u001b[38;5;124m'\u001b[39m\u001b[38;5;124mx\u001b[39m\u001b[38;5;124m'\u001b[39m, \u001b[38;5;124m'\u001b[39m\u001b[38;5;124my\u001b[39m\u001b[38;5;124m'\u001b[39m]))\n\u001b[0;32m----> 3\u001b[0m is_nan_indices \u001b[38;5;241m=\u001b[39m \u001b[43mnp\u001b[49m\u001b[38;5;241;43m.\u001b[39;49m\u001b[43mwhere\u001b[49m\u001b[43m(\u001b[49m\u001b[43misnan_all\u001b[49m\u001b[43m)\u001b[49m[\u001b[38;5;241m0\u001b[39m]\n",
      "File \u001b[0;32m<__array_function__ internals>:180\u001b[0m, in \u001b[0;36mwhere\u001b[0;34m(*args, **kwargs)\u001b[0m\n",
      "File \u001b[0;32m~/anaconda3/envs/oyv/lib/python3.8/site-packages/xarray/core/common.py:159\u001b[0m, in \u001b[0;36mAbstractArray.__array__\u001b[0;34m(self, dtype)\u001b[0m\n\u001b[1;32m    158\u001b[0m \u001b[38;5;28;01mdef\u001b[39;00m \u001b[38;5;21m__array__\u001b[39m(\u001b[38;5;28mself\u001b[39m: Any, dtype: DTypeLike \u001b[38;5;241m=\u001b[39m \u001b[38;5;28;01mNone\u001b[39;00m) \u001b[38;5;241m-\u001b[39m\u001b[38;5;241m>\u001b[39m np\u001b[38;5;241m.\u001b[39mndarray:\n\u001b[0;32m--> 159\u001b[0m     \u001b[38;5;28;01mreturn\u001b[39;00m np\u001b[38;5;241m.\u001b[39masarray(\u001b[38;5;28;43mself\u001b[39;49m\u001b[38;5;241;43m.\u001b[39;49m\u001b[43mvalues\u001b[49m, dtype\u001b[38;5;241m=\u001b[39mdtype)\n",
      "File \u001b[0;32m~/anaconda3/envs/oyv/lib/python3.8/site-packages/xarray/core/dataarray.py:728\u001b[0m, in \u001b[0;36mDataArray.values\u001b[0;34m(self)\u001b[0m\n\u001b[1;32m    719\u001b[0m \u001b[38;5;129m@property\u001b[39m\n\u001b[1;32m    720\u001b[0m \u001b[38;5;28;01mdef\u001b[39;00m \u001b[38;5;21mvalues\u001b[39m(\u001b[38;5;28mself\u001b[39m) \u001b[38;5;241m-\u001b[39m\u001b[38;5;241m>\u001b[39m np\u001b[38;5;241m.\u001b[39mndarray:\n\u001b[1;32m    721\u001b[0m \u001b[38;5;250m    \u001b[39m\u001b[38;5;124;03m\"\"\"\u001b[39;00m\n\u001b[1;32m    722\u001b[0m \u001b[38;5;124;03m    The array's data as a numpy.ndarray.\u001b[39;00m\n\u001b[1;32m    723\u001b[0m \n\u001b[0;32m   (...)\u001b[0m\n\u001b[1;32m    726\u001b[0m \u001b[38;5;124;03m    type does not support coercion like this (e.g. cupy).\u001b[39;00m\n\u001b[1;32m    727\u001b[0m \u001b[38;5;124;03m    \"\"\"\u001b[39;00m\n\u001b[0;32m--> 728\u001b[0m     \u001b[38;5;28;01mreturn\u001b[39;00m \u001b[38;5;28;43mself\u001b[39;49m\u001b[38;5;241;43m.\u001b[39;49m\u001b[43mvariable\u001b[49m\u001b[38;5;241;43m.\u001b[39;49m\u001b[43mvalues\u001b[49m\n",
      "File \u001b[0;32m~/anaconda3/envs/oyv/lib/python3.8/site-packages/xarray/core/variable.py:608\u001b[0m, in \u001b[0;36mVariable.values\u001b[0;34m(self)\u001b[0m\n\u001b[1;32m    605\u001b[0m \u001b[38;5;129m@property\u001b[39m\n\u001b[1;32m    606\u001b[0m \u001b[38;5;28;01mdef\u001b[39;00m \u001b[38;5;21mvalues\u001b[39m(\u001b[38;5;28mself\u001b[39m):\n\u001b[1;32m    607\u001b[0m \u001b[38;5;250m    \u001b[39m\u001b[38;5;124;03m\"\"\"The variable's data as a numpy.ndarray\"\"\"\u001b[39;00m\n\u001b[0;32m--> 608\u001b[0m     \u001b[38;5;28;01mreturn\u001b[39;00m \u001b[43m_as_array_or_item\u001b[49m\u001b[43m(\u001b[49m\u001b[38;5;28;43mself\u001b[39;49m\u001b[38;5;241;43m.\u001b[39;49m\u001b[43m_data\u001b[49m\u001b[43m)\u001b[49m\n",
      "File \u001b[0;32m~/anaconda3/envs/oyv/lib/python3.8/site-packages/xarray/core/variable.py:314\u001b[0m, in \u001b[0;36m_as_array_or_item\u001b[0;34m(data)\u001b[0m\n\u001b[1;32m    300\u001b[0m \u001b[38;5;28;01mdef\u001b[39;00m \u001b[38;5;21m_as_array_or_item\u001b[39m(data):\n\u001b[1;32m    301\u001b[0m \u001b[38;5;250m    \u001b[39m\u001b[38;5;124;03m\"\"\"Return the given values as a numpy array, or as an individual item if\u001b[39;00m\n\u001b[1;32m    302\u001b[0m \u001b[38;5;124;03m    it's a 0d datetime64 or timedelta64 array.\u001b[39;00m\n\u001b[1;32m    303\u001b[0m \n\u001b[0;32m   (...)\u001b[0m\n\u001b[1;32m    312\u001b[0m \u001b[38;5;124;03m    TODO: remove this (replace with np.asarray) once these issues are fixed\u001b[39;00m\n\u001b[1;32m    313\u001b[0m \u001b[38;5;124;03m    \"\"\"\u001b[39;00m\n\u001b[0;32m--> 314\u001b[0m     data \u001b[38;5;241m=\u001b[39m \u001b[43mnp\u001b[49m\u001b[38;5;241;43m.\u001b[39;49m\u001b[43masarray\u001b[49m\u001b[43m(\u001b[49m\u001b[43mdata\u001b[49m\u001b[43m)\u001b[49m\n\u001b[1;32m    315\u001b[0m     \u001b[38;5;28;01mif\u001b[39;00m data\u001b[38;5;241m.\u001b[39mndim \u001b[38;5;241m==\u001b[39m \u001b[38;5;241m0\u001b[39m:\n\u001b[1;32m    316\u001b[0m         \u001b[38;5;28;01mif\u001b[39;00m data\u001b[38;5;241m.\u001b[39mdtype\u001b[38;5;241m.\u001b[39mkind \u001b[38;5;241m==\u001b[39m \u001b[38;5;124m\"\u001b[39m\u001b[38;5;124mM\u001b[39m\u001b[38;5;124m\"\u001b[39m:\n",
      "File \u001b[0;32m~/anaconda3/envs/oyv/lib/python3.8/site-packages/dask/array/core.py:1699\u001b[0m, in \u001b[0;36mArray.__array__\u001b[0;34m(self, dtype, **kwargs)\u001b[0m\n\u001b[1;32m   1698\u001b[0m \u001b[38;5;28;01mdef\u001b[39;00m \u001b[38;5;21m__array__\u001b[39m(\u001b[38;5;28mself\u001b[39m, dtype\u001b[38;5;241m=\u001b[39m\u001b[38;5;28;01mNone\u001b[39;00m, \u001b[38;5;241m*\u001b[39m\u001b[38;5;241m*\u001b[39mkwargs):\n\u001b[0;32m-> 1699\u001b[0m     x \u001b[38;5;241m=\u001b[39m \u001b[38;5;28;43mself\u001b[39;49m\u001b[38;5;241;43m.\u001b[39;49m\u001b[43mcompute\u001b[49m\u001b[43m(\u001b[49m\u001b[43m)\u001b[49m\n\u001b[1;32m   1700\u001b[0m     \u001b[38;5;28;01mif\u001b[39;00m dtype \u001b[38;5;129;01mand\u001b[39;00m x\u001b[38;5;241m.\u001b[39mdtype \u001b[38;5;241m!=\u001b[39m dtype:\n\u001b[1;32m   1701\u001b[0m         x \u001b[38;5;241m=\u001b[39m x\u001b[38;5;241m.\u001b[39mastype(dtype)\n",
      "File \u001b[0;32m~/anaconda3/envs/oyv/lib/python3.8/site-packages/dask/base.py:314\u001b[0m, in \u001b[0;36mDaskMethodsMixin.compute\u001b[0;34m(self, **kwargs)\u001b[0m\n\u001b[1;32m    290\u001b[0m \u001b[38;5;28;01mdef\u001b[39;00m \u001b[38;5;21mcompute\u001b[39m(\u001b[38;5;28mself\u001b[39m, \u001b[38;5;241m*\u001b[39m\u001b[38;5;241m*\u001b[39mkwargs):\n\u001b[1;32m    291\u001b[0m \u001b[38;5;250m    \u001b[39m\u001b[38;5;124;03m\"\"\"Compute this dask collection\u001b[39;00m\n\u001b[1;32m    292\u001b[0m \n\u001b[1;32m    293\u001b[0m \u001b[38;5;124;03m    This turns a lazy Dask collection into its in-memory equivalent.\u001b[39;00m\n\u001b[0;32m   (...)\u001b[0m\n\u001b[1;32m    312\u001b[0m \u001b[38;5;124;03m    dask.base.compute\u001b[39;00m\n\u001b[1;32m    313\u001b[0m \u001b[38;5;124;03m    \"\"\"\u001b[39;00m\n\u001b[0;32m--> 314\u001b[0m     (result,) \u001b[38;5;241m=\u001b[39m \u001b[43mcompute\u001b[49m\u001b[43m(\u001b[49m\u001b[38;5;28;43mself\u001b[39;49m\u001b[43m,\u001b[49m\u001b[43m \u001b[49m\u001b[43mtraverse\u001b[49m\u001b[38;5;241;43m=\u001b[39;49m\u001b[38;5;28;43;01mFalse\u001b[39;49;00m\u001b[43m,\u001b[49m\u001b[43m \u001b[49m\u001b[38;5;241;43m*\u001b[39;49m\u001b[38;5;241;43m*\u001b[39;49m\u001b[43mkwargs\u001b[49m\u001b[43m)\u001b[49m\n\u001b[1;32m    315\u001b[0m     \u001b[38;5;28;01mreturn\u001b[39;00m result\n",
      "File \u001b[0;32m~/anaconda3/envs/oyv/lib/python3.8/site-packages/dask/base.py:599\u001b[0m, in \u001b[0;36mcompute\u001b[0;34m(traverse, optimize_graph, scheduler, get, *args, **kwargs)\u001b[0m\n\u001b[1;32m    596\u001b[0m     keys\u001b[38;5;241m.\u001b[39mappend(x\u001b[38;5;241m.\u001b[39m__dask_keys__())\n\u001b[1;32m    597\u001b[0m     postcomputes\u001b[38;5;241m.\u001b[39mappend(x\u001b[38;5;241m.\u001b[39m__dask_postcompute__())\n\u001b[0;32m--> 599\u001b[0m results \u001b[38;5;241m=\u001b[39m \u001b[43mschedule\u001b[49m\u001b[43m(\u001b[49m\u001b[43mdsk\u001b[49m\u001b[43m,\u001b[49m\u001b[43m \u001b[49m\u001b[43mkeys\u001b[49m\u001b[43m,\u001b[49m\u001b[43m \u001b[49m\u001b[38;5;241;43m*\u001b[39;49m\u001b[38;5;241;43m*\u001b[39;49m\u001b[43mkwargs\u001b[49m\u001b[43m)\u001b[49m\n\u001b[1;32m    600\u001b[0m \u001b[38;5;28;01mreturn\u001b[39;00m repack([f(r, \u001b[38;5;241m*\u001b[39ma) \u001b[38;5;28;01mfor\u001b[39;00m r, (f, a) \u001b[38;5;129;01min\u001b[39;00m \u001b[38;5;28mzip\u001b[39m(results, postcomputes)])\n",
      "File \u001b[0;32m~/anaconda3/envs/oyv/lib/python3.8/site-packages/dask/threaded.py:89\u001b[0m, in \u001b[0;36mget\u001b[0;34m(dsk, keys, cache, num_workers, pool, **kwargs)\u001b[0m\n\u001b[1;32m     86\u001b[0m     \u001b[38;5;28;01melif\u001b[39;00m \u001b[38;5;28misinstance\u001b[39m(pool, multiprocessing\u001b[38;5;241m.\u001b[39mpool\u001b[38;5;241m.\u001b[39mPool):\n\u001b[1;32m     87\u001b[0m         pool \u001b[38;5;241m=\u001b[39m MultiprocessingPoolExecutor(pool)\n\u001b[0;32m---> 89\u001b[0m results \u001b[38;5;241m=\u001b[39m \u001b[43mget_async\u001b[49m\u001b[43m(\u001b[49m\n\u001b[1;32m     90\u001b[0m \u001b[43m    \u001b[49m\u001b[43mpool\u001b[49m\u001b[38;5;241;43m.\u001b[39;49m\u001b[43msubmit\u001b[49m\u001b[43m,\u001b[49m\n\u001b[1;32m     91\u001b[0m \u001b[43m    \u001b[49m\u001b[43mpool\u001b[49m\u001b[38;5;241;43m.\u001b[39;49m\u001b[43m_max_workers\u001b[49m\u001b[43m,\u001b[49m\n\u001b[1;32m     92\u001b[0m \u001b[43m    \u001b[49m\u001b[43mdsk\u001b[49m\u001b[43m,\u001b[49m\n\u001b[1;32m     93\u001b[0m \u001b[43m    \u001b[49m\u001b[43mkeys\u001b[49m\u001b[43m,\u001b[49m\n\u001b[1;32m     94\u001b[0m \u001b[43m    \u001b[49m\u001b[43mcache\u001b[49m\u001b[38;5;241;43m=\u001b[39;49m\u001b[43mcache\u001b[49m\u001b[43m,\u001b[49m\n\u001b[1;32m     95\u001b[0m \u001b[43m    \u001b[49m\u001b[43mget_id\u001b[49m\u001b[38;5;241;43m=\u001b[39;49m\u001b[43m_thread_get_id\u001b[49m\u001b[43m,\u001b[49m\n\u001b[1;32m     96\u001b[0m \u001b[43m    \u001b[49m\u001b[43mpack_exception\u001b[49m\u001b[38;5;241;43m=\u001b[39;49m\u001b[43mpack_exception\u001b[49m\u001b[43m,\u001b[49m\n\u001b[1;32m     97\u001b[0m \u001b[43m    \u001b[49m\u001b[38;5;241;43m*\u001b[39;49m\u001b[38;5;241;43m*\u001b[39;49m\u001b[43mkwargs\u001b[49m\u001b[43m,\u001b[49m\n\u001b[1;32m     98\u001b[0m \u001b[43m\u001b[49m\u001b[43m)\u001b[49m\n\u001b[1;32m    100\u001b[0m \u001b[38;5;66;03m# Cleanup pools associated to dead threads\u001b[39;00m\n\u001b[1;32m    101\u001b[0m \u001b[38;5;28;01mwith\u001b[39;00m pools_lock:\n",
      "File \u001b[0;32m~/anaconda3/envs/oyv/lib/python3.8/site-packages/dask/local.py:500\u001b[0m, in \u001b[0;36mget_async\u001b[0;34m(submit, num_workers, dsk, result, cache, get_id, rerun_exceptions_locally, pack_exception, raise_exception, callbacks, dumps, loads, chunksize, **kwargs)\u001b[0m\n\u001b[1;32m    498\u001b[0m \u001b[38;5;28;01mwhile\u001b[39;00m state[\u001b[38;5;124m\"\u001b[39m\u001b[38;5;124mwaiting\u001b[39m\u001b[38;5;124m\"\u001b[39m] \u001b[38;5;129;01mor\u001b[39;00m state[\u001b[38;5;124m\"\u001b[39m\u001b[38;5;124mready\u001b[39m\u001b[38;5;124m\"\u001b[39m] \u001b[38;5;129;01mor\u001b[39;00m state[\u001b[38;5;124m\"\u001b[39m\u001b[38;5;124mrunning\u001b[39m\u001b[38;5;124m\"\u001b[39m]:\n\u001b[1;32m    499\u001b[0m     fire_tasks(chunksize)\n\u001b[0;32m--> 500\u001b[0m     \u001b[38;5;28;01mfor\u001b[39;00m key, res_info, failed \u001b[38;5;129;01min\u001b[39;00m \u001b[43mqueue_get\u001b[49m\u001b[43m(\u001b[49m\u001b[43mqueue\u001b[49m\u001b[43m)\u001b[49m\u001b[38;5;241m.\u001b[39mresult():\n\u001b[1;32m    501\u001b[0m         \u001b[38;5;28;01mif\u001b[39;00m failed:\n\u001b[1;32m    502\u001b[0m             exc, tb \u001b[38;5;241m=\u001b[39m loads(res_info)\n",
      "File \u001b[0;32m~/anaconda3/envs/oyv/lib/python3.8/site-packages/dask/local.py:137\u001b[0m, in \u001b[0;36mqueue_get\u001b[0;34m(q)\u001b[0m\n\u001b[1;32m    136\u001b[0m \u001b[38;5;28;01mdef\u001b[39;00m \u001b[38;5;21mqueue_get\u001b[39m(q):\n\u001b[0;32m--> 137\u001b[0m     \u001b[38;5;28;01mreturn\u001b[39;00m \u001b[43mq\u001b[49m\u001b[38;5;241;43m.\u001b[39;49m\u001b[43mget\u001b[49m\u001b[43m(\u001b[49m\u001b[43m)\u001b[49m\n",
      "File \u001b[0;32m~/anaconda3/envs/oyv/lib/python3.8/queue.py:170\u001b[0m, in \u001b[0;36mQueue.get\u001b[0;34m(self, block, timeout)\u001b[0m\n\u001b[1;32m    168\u001b[0m \u001b[38;5;28;01melif\u001b[39;00m timeout \u001b[38;5;129;01mis\u001b[39;00m \u001b[38;5;28;01mNone\u001b[39;00m:\n\u001b[1;32m    169\u001b[0m     \u001b[38;5;28;01mwhile\u001b[39;00m \u001b[38;5;129;01mnot\u001b[39;00m \u001b[38;5;28mself\u001b[39m\u001b[38;5;241m.\u001b[39m_qsize():\n\u001b[0;32m--> 170\u001b[0m         \u001b[38;5;28;43mself\u001b[39;49m\u001b[38;5;241;43m.\u001b[39;49m\u001b[43mnot_empty\u001b[49m\u001b[38;5;241;43m.\u001b[39;49m\u001b[43mwait\u001b[49m\u001b[43m(\u001b[49m\u001b[43m)\u001b[49m\n\u001b[1;32m    171\u001b[0m \u001b[38;5;28;01melif\u001b[39;00m timeout \u001b[38;5;241m<\u001b[39m \u001b[38;5;241m0\u001b[39m:\n\u001b[1;32m    172\u001b[0m     \u001b[38;5;28;01mraise\u001b[39;00m \u001b[38;5;167;01mValueError\u001b[39;00m(\u001b[38;5;124m\"\u001b[39m\u001b[38;5;124m'\u001b[39m\u001b[38;5;124mtimeout\u001b[39m\u001b[38;5;124m'\u001b[39m\u001b[38;5;124m must be a non-negative number\u001b[39m\u001b[38;5;124m\"\u001b[39m)\n",
      "File \u001b[0;32m~/anaconda3/envs/oyv/lib/python3.8/threading.py:302\u001b[0m, in \u001b[0;36mCondition.wait\u001b[0;34m(self, timeout)\u001b[0m\n\u001b[1;32m    300\u001b[0m \u001b[38;5;28;01mtry\u001b[39;00m:    \u001b[38;5;66;03m# restore state no matter what (e.g., KeyboardInterrupt)\u001b[39;00m\n\u001b[1;32m    301\u001b[0m     \u001b[38;5;28;01mif\u001b[39;00m timeout \u001b[38;5;129;01mis\u001b[39;00m \u001b[38;5;28;01mNone\u001b[39;00m:\n\u001b[0;32m--> 302\u001b[0m         \u001b[43mwaiter\u001b[49m\u001b[38;5;241;43m.\u001b[39;49m\u001b[43macquire\u001b[49m\u001b[43m(\u001b[49m\u001b[43m)\u001b[49m\n\u001b[1;32m    303\u001b[0m         gotit \u001b[38;5;241m=\u001b[39m \u001b[38;5;28;01mTrue\u001b[39;00m\n\u001b[1;32m    304\u001b[0m     \u001b[38;5;28;01melse\u001b[39;00m:\n",
      "\u001b[0;31mKeyboardInterrupt\u001b[0m: "
     ]
    }
   ],
   "source": [
    "# Indices where all values are NaN\n",
    "isnan_all = np.isnan(D.u.max(dim = ['x', 'y']))\n",
    "is_nan_indices = np.where(isnan_all)[0]"
   ]
  },
  {
   "cell_type": "code",
   "execution_count": null,
   "id": "d66e3d00",
   "metadata": {},
   "outputs": [],
   "source": [
    "# For each Nan index: Interpolate across from adjacent days\n",
    "\n",
    "for nan_ind in is_nan_indices:\n",
    "    u_nanind =  0.5*(D.u[nan_ind-1].fillna(0) + D.u[nan_ind+1].fillna(0))\n",
    "    v_nanind =  0.5*(D.v[nan_ind-1].fillna(0) + D.v[nan_ind+1].fillna(0))\n",
    "    \n",
    "    u_nanind = u_nanind.where(np.bool_((u_nanind!=0) * (v_nanind!=0)))\n",
    "    v_nanind = v_nanind.where(np.bool_((u_nanind!=0) * (v_nanind!=0)))\n",
    "\n",
    "    D.u[nan_ind] = u_nanind\n",
    "    D.v[nan_ind] = v_nanind"
   ]
  },
  {
   "cell_type": "markdown",
   "id": "69841ad2",
   "metadata": {},
   "source": [
    "##### (Optional): Quick check\n",
    "\n",
    "Toggle *check_interpolation=True* to show a quick check of the interpolation on Dec 31 2020..\n"
   ]
  },
  {
   "cell_type": "code",
   "execution_count": null,
   "id": "d1ebaaf1",
   "metadata": {},
   "outputs": [],
   "source": [
    "check_interpolation = False\n",
    "\n",
    "if check_interpolation:\n",
    "    x_point, y_point = 180, 180\n",
    "    \n",
    "    fig, ax = plt.subplots(figsize = (11, 3))\n",
    "    \n",
    "    ax.plot_date(date2num(D.time), D.u.isel(x=x_point, y=y_point), '-k', alpha = 0.3)\n",
    "    ax.plot_date(date2num(D.time), D.u.isel(x=x_point, y=y_point), '.', ms = 6, \n",
    "                 label = 'u (original)')\n",
    "    ax.plot_date(D.time[is_nan_indices[0]], \n",
    "                 D.u.isel(x=x_point, y=y_point)[is_nan_indices[0]], '*y', ms = 12,\n",
    "                 label = 'u (interpolated)')\n",
    "    ax.plot_date(date2num(D.time), D.v.isel(x=x_point, y=y_point), '-k', alpha = 0.3)\n",
    "    ax.plot_date(date2num(D.time), D.v.isel(x=x_point, y=y_point), '.', ms = 6, \n",
    "                 label = 'v (original)')\n",
    "    ax.plot_date(D.time[is_nan_indices[0]], \n",
    "                 D.v.isel(x=x_point, y=y_point)[is_nan_indices[0]], '*r', ms = 12, \n",
    "                 label = 'v (interpolated)')\n",
    "\n",
    "    for t_ in date2num(D.time):\n",
    "        ax.vlines(t_, -50, 50, 'k', alpha = 0.2)\n",
    "    ax.set_xlim(18618, 18633)\n",
    "    ax.set_ylim(-10, 10)\n",
    "    ax.legend(ncol = 2, fontsize = 9)"
   ]
  },
  {
   "cell_type": "markdown",
   "id": "a9940c1d",
   "metadata": {},
   "source": [
    "### Define a land mask\n",
    "\n",
    "Here, we can define a land mask (*MASK*) that will be used to kill a backtrajectory when it intersects a coastline.\n",
    "\n",
    "*MASK* should have the following variables:\n",
    "- *x, y* - Grid \n",
    "- *is_land* - Boolean (land=1, not land = 0)  \n",
    "- *proj* - pyproj.CRS defining the grid projection of *x, y*\n",
    "\n",
    "\n",
    "In my case, I am using a 2km land mask for the Eurasian sector based on IBCAO-v4, where I have removed Svalbard in order to allow trajectories to pass through islands. This mask was made elsewhere - I am just loading it here.\n",
    "\n",
    "We can choose not to use a land mask. In that case, set *no_land_mask = True*"
   ]
  },
  {
   "cell_type": "code",
   "execution_count": 9,
   "id": "3be2364e",
   "metadata": {},
   "outputs": [],
   "source": [
    "no_land_mask = False"
   ]
  },
  {
   "cell_type": "code",
   "execution_count": 12,
   "id": "f12cb0db",
   "metadata": {},
   "outputs": [],
   "source": [
    "# Load the land mask based on IBCAO (and defining the projection of this mask):\n",
    "if not no_land_mask:\n",
    "    my_mask_proj = pyproj.CRS('epsg:3996')  \n",
    "    my_mask = xr.open_dataset(\n",
    "        '/home/oyvindl/work/data/bathymetry/ibcao_v4/netcdf/IBCAO_landmask_greater_barents_2km.nc')\n",
    "    mask_is_land = my_mask.landmask_wo_svb\n",
    "    # (Also adding lon/lat, but thise aren't strictly necessary)\n",
    "    MASK = xr.Dataset(coords = {'x':my_mask.x, 'y':my_mask.y},\n",
    "                     data_vars = {'lon':my_mask.lon, 'lat':my_mask.lat,\n",
    "                                  'is_land':mask_is_land})\n",
    "    MASK['proj'] = ((), my_mask_proj)"
   ]
  },
  {
   "cell_type": "code",
   "execution_count": 13,
   "id": "4f2c0192",
   "metadata": {},
   "outputs": [],
   "source": [
    "# If we dont have a land mask/dont want to use one:\n",
    "if no_land_mask:\n",
    "    MASK = None"
   ]
  },
  {
   "cell_type": "markdown",
   "id": "7d333f71",
   "metadata": {},
   "source": [
    "##### (Optional): Quick check of mask\n",
    "\n",
    "Toggle *show_mask=True* to show a quick landmask plot"
   ]
  },
  {
   "cell_type": "code",
   "execution_count": 32,
   "id": "afa5ece7",
   "metadata": {},
   "outputs": [],
   "source": [
    "show_mask = False\n",
    "\n",
    "if show_mask:\n",
    "\n",
    "    import cartopy.crs as ccrs\n",
    "    import cartopy.feature as cfeature\n",
    "\n",
    "    lat_ctr, lon_ctr = 86, 30\n",
    "\n",
    "    cart_proj = ccrs.Stereographic(\n",
    "        central_latitude=lat_ctr,\n",
    "        central_longitude=lon_ctr,\n",
    "        scale_factor=None, globe=None)\n",
    "\n",
    "    fig = plt.figure(figsize = (8, 8))\n",
    "    ax = plt.axes(projection=cart_proj)\n",
    "\n",
    "    # Coastline\n",
    "    ax.coastlines('50m', )\n",
    "\n",
    "    # Land\n",
    "    land_50m = cfeature.NaturalEarthFeature(\n",
    "        'physical', 'land', '50m',\n",
    "        edgecolor='k', linewidth = 1,\n",
    "        facecolor=cfeature.COLORS['land'])\n",
    "\n",
    "    ax.add_feature(land_50m)\n",
    "\n",
    "    # Set boundaries\n",
    "    ax.set_extent([-20, 191, 66, 89.5], crs=ccrs.PlateCarree())\n",
    "    \n",
    "    \n",
    "    # Transform mask coordiates (x-y) to (lat-lon) \n",
    "    wgs84_proj = pyproj.CRS(\"EPSG:4326\") # latlon with WGS84 datum\n",
    "    MASK_to_latlon = pyproj.Transformer.from_crs(MASK.proj.data.item(), wgs84_proj)\n",
    "    mask_lon, mask_lat = None, None"
   ]
  }
 ],
 "metadata": {
  "kernelspec": {
   "display_name": "Python 3 (ipykernel)",
   "language": "python",
   "name": "python3"
  },
  "language_info": {
   "codemirror_mode": {
    "name": "ipython",
    "version": 3
   },
   "file_extension": ".py",
   "mimetype": "text/x-python",
   "name": "python",
   "nbconvert_exporter": "python",
   "pygments_lexer": "ipython3",
   "version": "3.8.2"
  }
 },
 "nbformat": 4,
 "nbformat_minor": 5
}
