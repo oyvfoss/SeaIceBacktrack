{
 "cells": [
  {
   "cell_type": "code",
   "execution_count": 13,
   "id": "2ed8c295",
   "metadata": {},
   "outputs": [],
   "source": [
    "import pickle\n",
    "import datetime"
   ]
  },
  {
   "cell_type": "code",
   "execution_count": 3,
   "id": "c3f6f223",
   "metadata": {},
   "outputs": [
    {
     "name": "stdout",
     "output_type": "stream",
     "text": [
      "Running other notebooks: Defining particle tracking class..  ..done.\n"
     ]
    }
   ],
   "source": [
    "print('Running other notebooks: Preparing data..\\r', end = '')\n",
    "%run \"Load and prepare data.ipynb\"\n",
    "print('Running other notebooks: Defining particle tracking class..', end = '')\n",
    "%run \"Define particle tracking class.ipynb\"\n",
    "print('  ..done.')"
   ]
  },
  {
   "cell_type": "code",
   "execution_count": 4,
   "id": "de8ac1eb",
   "metadata": {},
   "outputs": [],
   "source": [
    "moor = 'm1'"
   ]
  },
  {
   "cell_type": "code",
   "execution_count": null,
   "id": "c8b33a2a",
   "metadata": {},
   "outputs": [],
   "source": [
    "datadir_out = './output/'  \n",
    "savenm =datadir_out + 'back_trajectories_%s_v1.p'%moor\n",
    "print(savenm)"
   ]
  },
  {
   "cell_type": "code",
   "execution_count": 10,
   "id": "0c9c967a",
   "metadata": {},
   "outputs": [],
   "source": [
    "with open('/home/oyvindl/work/arven_etter_nansen/data/aen_coords_v2.p', 'rb') as f:\n",
    "    coords = pickle.load(f)\n",
    "    \n",
    "lon = coords[moor].lon\n",
    "lat = coords[moor].lat"
   ]
  },
  {
   "cell_type": "code",
   "execution_count": 16,
   "id": "04b1389f",
   "metadata": {},
   "outputs": [],
   "source": [
    "input_dict0 = {'D':D, 'lat0':lat, 'lon0':lon, 'time0':None, 'MASK':MASK, \n",
    "              'interp_method':'linear', 'end_criteria':'ABC' }"
   ]
  },
  {
   "cell_type": "code",
   "execution_count": 42,
   "id": "98e91583",
   "metadata": {},
   "outputs": [],
   "source": [
    "%run \"Define particle tracking class.ipynb\""
   ]
  },
  {
   "cell_type": "code",
   "execution_count": 43,
   "id": "013e87e8",
   "metadata": {},
   "outputs": [
    {
     "data": {
      "text/plain": [
       "'./output/back_trajectories_m1_v1.p'"
      ]
     },
     "execution_count": 43,
     "metadata": {},
     "output_type": "execute_result"
    }
   ],
   "source": []
  },
  {
   "cell_type": "code",
   "execution_count": null,
   "id": "49c44b5a",
   "metadata": {},
   "outputs": [
    {
     "name": "stdout",
     "output_type": "stream",
     "text": [
      "### 1 / 03 Aug 2018.. ### \n",
      "Setting up object ..\n",
      " ..done.\n",
      "STARTED IN OPEN WATER!\n",
      "### 2 / 05 Aug 2018.. ### \n",
      "Setting up object ..\n",
      " ..done.\n",
      "STARTED IN OPEN WATER!\n",
      "### 3 / 07 Aug 2018.. ### \n",
      "Setting up object ..\n",
      " ..done.\n",
      "STARTED IN OPEN WATER!\n",
      "### 4 / 09 Aug 2018.. ### \n",
      "Setting up object ..\n",
      " ..done.\n",
      "STARTED IN OPEN WATER!\n",
      "### 5 / 11 Aug 2018.. ### \n",
      "Setting up object ..\n",
      " ..done.\n",
      "STARTED IN OPEN WATER!\n",
      "### 6 / 13 Aug 2018.. ### \n",
      "Setting up object ..\n",
      " ..done.\n",
      "STARTED IN OPEN WATER!\n",
      "### 7 / 15 Aug 2018.. ### \n",
      "Setting up object ..\n",
      " ..done.\n",
      "STARTED IN OPEN WATER!\n",
      "### 8 / 17 Aug 2018.. ### \n",
      "Setting up object ..\n",
      " ..done.\n",
      "STARTED IN OPEN WATER!\n",
      "### 9 / 19 Aug 2018.. ### \n",
      "Setting up object ..\n",
      " ..done.\n",
      "STARTED IN OPEN WATER!\n",
      "### 10 / 21 Aug 2018.. ### \n",
      "Setting up object ..\n",
      " ..done.\n",
      "STARTED IN OPEN WATER!\n",
      "SAVING!\n",
      "### 11 / 23 Aug 2018.. ### \n",
      "Setting up object ..\n",
      " ..done.\n",
      "STARTED IN OPEN WATER!\n",
      "### 12 / 25 Aug 2018.. ### \n",
      "Setting up object ..\n",
      " ..done.\n",
      "STARTED IN OPEN WATER!\n",
      "### 13 / 27 Aug 2018.. ### \n",
      "Setting up object ..\n",
      " ..done.\n",
      "STARTED IN OPEN WATER!\n",
      "### 14 / 29 Aug 2018.. ### \n",
      "Setting up object ..\n",
      " ..done.\n",
      "STARTED IN OPEN WATER!\n",
      "### 15 / 31 Aug 2018.. ### \n",
      "Setting up object ..\n",
      " ..done.\n",
      "STARTED IN OPEN WATER!\n",
      "### 16 / 02 Sep 2018.. ### \n",
      "Setting up object ..\n",
      " ..done.\n",
      "STARTED IN OPEN WATER!\n",
      "### 17 / 04 Sep 2018.. ### \n",
      "Setting up object ..\n",
      " ..done.\n",
      "STARTED IN OPEN WATER!\n",
      "### 18 / 06 Sep 2018.. ### \n",
      "Setting up object ..\n",
      " ..done.\n",
      "STARTED IN OPEN WATER!\n",
      "### 19 / 08 Sep 2018.. ### \n",
      "Setting up object ..\n",
      " ..done.\n",
      "STARTED IN OPEN WATER!\n",
      "### 20 / 10 Sep 2018.. ### \n",
      "Setting up object ..\n",
      " ..done.\n",
      "STARTED IN OPEN WATER!\n",
      "SAVING!\n",
      "### 21 / 12 Sep 2018.. ### \n",
      "Setting up object ..\n",
      " ..done.\n",
      "STARTED IN OPEN WATER!\n",
      "### 22 / 14 Sep 2018.. ### \n",
      "Setting up object ..\n",
      " ..done.\n",
      "STARTED IN OPEN WATER!\n",
      "### 23 / 16 Sep 2018.. ### \n",
      "Setting up object ..\n"
     ]
    }
   ],
   "source": [
    "TRAJS = []\n",
    "lat0, lon0 =  lat, lon\n",
    "\n",
    "load_old = False\n",
    "if load_old:\n",
    "    Ps =pickle_load(savenm)\n",
    "    time_ = num2date(date2num(Ps[-1]['time0']))\n",
    "else:\n",
    "    time_ = datetime.datetime(2018, 8, 1, tzinfo=datetime.timezone.utc)\n",
    "\n",
    "nn = 0\n",
    "count = 0\n",
    "while time_ < datetime.datetime(2021, 12, 31, tzinfo=datetime.timezone.utc):\n",
    "    count += 1\n",
    "    time_ = time_ + datetime.timedelta(days=float(2))\n",
    "    input_dict = input_dict0.copy()\n",
    "    input_dict['time0'] = time_\n",
    "    \n",
    "    print('### %i / %s.. ### '%(count, time_.strftime('%d %b %Y')))\n",
    "    P = ice_particle(input_dict)\n",
    "    P.backtrack()\n",
    "    TRAJS += [P.to_dict()]\n",
    "    \n",
    "    # Saving all long trajectories (>50 km)\n",
    "    #Otherwise, save every 10th\n",
    "    \n",
    "    save_it = False\n",
    "    if P.travel_time_days>50:\n",
    "        save_it = True\n",
    "    if count//10 == count/10:\n",
    "        save_it = True\n",
    "            \n",
    "    if save_it:\n",
    "        with open(savenm, 'wb') as f:\n",
    "            pickle.dump(TRAJS, f)\n",
    "        print('SAVING!')\n"
   ]
  }
 ],
 "metadata": {
  "kernelspec": {
   "display_name": "Python [conda env:oyv] *",
   "language": "python",
   "name": "conda-env-oyv-py"
  },
  "language_info": {
   "codemirror_mode": {
    "name": "ipython",
    "version": 3
   },
   "file_extension": ".py",
   "mimetype": "text/x-python",
   "name": "python",
   "nbconvert_exporter": "python",
   "pygments_lexer": "ipython3",
   "version": "3.8.2"
  }
 },
 "nbformat": 4,
 "nbformat_minor": 5
}
